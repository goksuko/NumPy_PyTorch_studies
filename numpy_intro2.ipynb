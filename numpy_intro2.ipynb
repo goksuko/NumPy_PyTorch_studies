{
 "cells": [
  {
   "cell_type": "code",
   "execution_count": 229,
   "id": "e335854b-61a3-44ce-b2e9-99280bcda6ed",
   "metadata": {},
   "outputs": [],
   "source": [
    "import numpy as np"
   ]
  },
  {
   "cell_type": "code",
   "execution_count": 230,
   "id": "dd275a6c-f8cf-46f2-847e-b0b388db25a2",
   "metadata": {},
   "outputs": [],
   "source": [
    "data = np.random.rand(2,3,4)\n",
    "zeroes = np.zeros((2,2,2))\n",
    "full = np.full((2,2,2),7)\n",
    "ones = np.ones((2,3,4))"
   ]
  },
  {
   "cell_type": "code",
   "execution_count": 231,
   "id": "ad26e446-4cd8-4bc1-88c3-6f759d8e145d",
   "metadata": {},
   "outputs": [
    {
     "data": {
      "text/plain": [
       "array([[[0.55930516, 0.52293112, 0.70508433, 0.0050956 ],\n",
       "        [0.47196621, 0.01295017, 0.58759326, 0.6210408 ],\n",
       "        [0.84984129, 0.56855733, 0.03517758, 0.90170879]],\n",
       "\n",
       "       [[0.25389308, 0.85070783, 0.82934147, 0.12063623],\n",
       "        [0.62556186, 0.29701654, 0.10312515, 0.15427257],\n",
       "        [0.97580872, 0.5364921 , 0.29734809, 0.88978377]]])"
      ]
     },
     "execution_count": 231,
     "metadata": {},
     "output_type": "execute_result"
    }
   ],
   "source": [
    "data"
   ]
  },
  {
   "cell_type": "code",
   "execution_count": 232,
   "id": "895a1dec-b8e2-4f3e-8cf0-14a90e5c2371",
   "metadata": {},
   "outputs": [
    {
     "data": {
      "text/plain": [
       "array([[[0., 0.],\n",
       "        [0., 0.]],\n",
       "\n",
       "       [[0., 0.],\n",
       "        [0., 0.]]])"
      ]
     },
     "execution_count": 232,
     "metadata": {},
     "output_type": "execute_result"
    }
   ],
   "source": [
    "zeroes"
   ]
  },
  {
   "cell_type": "code",
   "execution_count": 233,
   "id": "0469389c-6026-4d47-acdd-2691ceec69a5",
   "metadata": {},
   "outputs": [
    {
     "data": {
      "text/plain": [
       "array([[[7, 7],\n",
       "        [7, 7]],\n",
       "\n",
       "       [[7, 7],\n",
       "        [7, 7]]])"
      ]
     },
     "execution_count": 233,
     "metadata": {},
     "output_type": "execute_result"
    }
   ],
   "source": [
    "full"
   ]
  },
  {
   "cell_type": "code",
   "execution_count": 234,
   "id": "f3ee1670-5654-4bf4-a68d-5b770a8210aa",
   "metadata": {},
   "outputs": [
    {
     "data": {
      "text/plain": [
       "array([[[1., 1., 1., 1.],\n",
       "        [1., 1., 1., 1.],\n",
       "        [1., 1., 1., 1.]],\n",
       "\n",
       "       [[1., 1., 1., 1.],\n",
       "        [1., 1., 1., 1.],\n",
       "        [1., 1., 1., 1.]]])"
      ]
     },
     "execution_count": 234,
     "metadata": {},
     "output_type": "execute_result"
    }
   ],
   "source": [
    "ones"
   ]
  },
  {
   "cell_type": "code",
   "execution_count": 235,
   "id": "f624a36f-e7a5-497b-ab17-f5ffc4c18a86",
   "metadata": {},
   "outputs": [],
   "source": [
    "arr = np.array([[1,2,3,4],[5,6,7,8]])"
   ]
  },
  {
   "cell_type": "code",
   "execution_count": 236,
   "id": "8c706be6-15b6-4e06-8f8b-54e4164c41d1",
   "metadata": {},
   "outputs": [
    {
     "data": {
      "text/plain": [
       "array([[1, 2, 3, 4],\n",
       "       [5, 6, 7, 8]])"
      ]
     },
     "execution_count": 236,
     "metadata": {},
     "output_type": "execute_result"
    }
   ],
   "source": [
    "arr"
   ]
  },
  {
   "cell_type": "code",
   "execution_count": 237,
   "id": "16593a0a-7bcd-452f-9c32-2d07cbed9470",
   "metadata": {},
   "outputs": [
    {
     "data": {
      "text/plain": [
       "array([[[0.55930516, 0.52293112, 0.70508433, 0.0050956 ],\n",
       "        [0.47196621, 0.01295017, 0.58759326, 0.6210408 ],\n",
       "        [0.84984129, 0.56855733, 0.03517758, 0.90170879]],\n",
       "\n",
       "       [[0.25389308, 0.85070783, 0.82934147, 0.12063623],\n",
       "        [0.62556186, 0.29701654, 0.10312515, 0.15427257],\n",
       "        [0.97580872, 0.5364921 , 0.29734809, 0.88978377]]])"
      ]
     },
     "execution_count": 237,
     "metadata": {},
     "output_type": "execute_result"
    }
   ],
   "source": [
    "data"
   ]
  },
  {
   "cell_type": "code",
   "execution_count": 238,
   "id": "4cbfb975-1271-4b90-a781-e26699c7612d",
   "metadata": {},
   "outputs": [],
   "source": [
    "#attributes\n",
    "shape = data.shape\n",
    "size = data.size\n",
    "types = data.dtype"
   ]
  },
  {
   "cell_type": "code",
   "execution_count": 239,
   "id": "b69f9532-897b-4dfb-a4c1-5503d060baed",
   "metadata": {},
   "outputs": [
    {
     "data": {
      "text/plain": [
       "(2, 3, 4)"
      ]
     },
     "execution_count": 239,
     "metadata": {},
     "output_type": "execute_result"
    }
   ],
   "source": [
    "shape"
   ]
  },
  {
   "cell_type": "code",
   "execution_count": 240,
   "id": "613f6428-0b62-4dd6-b969-94e71d4c46b9",
   "metadata": {},
   "outputs": [
    {
     "data": {
      "text/plain": [
       "24"
      ]
     },
     "execution_count": 240,
     "metadata": {},
     "output_type": "execute_result"
    }
   ],
   "source": [
    "size"
   ]
  },
  {
   "cell_type": "code",
   "execution_count": 241,
   "id": "fd311bc9-7615-4b41-b960-4e85b942eb3c",
   "metadata": {},
   "outputs": [
    {
     "data": {
      "text/plain": [
       "dtype('float64')"
      ]
     },
     "execution_count": 241,
     "metadata": {},
     "output_type": "execute_result"
    }
   ],
   "source": [
    "types"
   ]
  },
  {
   "cell_type": "code",
   "execution_count": 242,
   "id": "a1d6c0e8-abca-41ff-b365-b4eae67c6dc1",
   "metadata": {},
   "outputs": [],
   "source": [
    "# slicing\n",
    "arr = data[0]\n",
    "slicer = data[0:2]\n",
    "reverse = data[-1]\n",
    "singlevel = data[0][0][0]"
   ]
  },
  {
   "cell_type": "code",
   "execution_count": 243,
   "id": "6fc9ae57-a57d-4631-99a1-08e964bdf73a",
   "metadata": {},
   "outputs": [
    {
     "data": {
      "text/plain": [
       "array([[0.55930516, 0.52293112, 0.70508433, 0.0050956 ],\n",
       "       [0.47196621, 0.01295017, 0.58759326, 0.6210408 ],\n",
       "       [0.84984129, 0.56855733, 0.03517758, 0.90170879]])"
      ]
     },
     "execution_count": 243,
     "metadata": {},
     "output_type": "execute_result"
    }
   ],
   "source": [
    "arr"
   ]
  },
  {
   "cell_type": "code",
   "execution_count": 244,
   "id": "b30cfbb6-8991-4a18-ad93-78972e43e312",
   "metadata": {},
   "outputs": [
    {
     "data": {
      "text/plain": [
       "array([[[0.55930516, 0.52293112, 0.70508433, 0.0050956 ],\n",
       "        [0.47196621, 0.01295017, 0.58759326, 0.6210408 ],\n",
       "        [0.84984129, 0.56855733, 0.03517758, 0.90170879]],\n",
       "\n",
       "       [[0.25389308, 0.85070783, 0.82934147, 0.12063623],\n",
       "        [0.62556186, 0.29701654, 0.10312515, 0.15427257],\n",
       "        [0.97580872, 0.5364921 , 0.29734809, 0.88978377]]])"
      ]
     },
     "execution_count": 244,
     "metadata": {},
     "output_type": "execute_result"
    }
   ],
   "source": [
    "slicer"
   ]
  },
  {
   "cell_type": "code",
   "execution_count": 245,
   "id": "e4d3a6b7-023d-44b4-9007-6eb6a1b1120d",
   "metadata": {},
   "outputs": [
    {
     "data": {
      "text/plain": [
       "array([[0.25389308, 0.85070783, 0.82934147, 0.12063623],\n",
       "       [0.62556186, 0.29701654, 0.10312515, 0.15427257],\n",
       "       [0.97580872, 0.5364921 , 0.29734809, 0.88978377]])"
      ]
     },
     "execution_count": 245,
     "metadata": {},
     "output_type": "execute_result"
    }
   ],
   "source": [
    "reverse"
   ]
  },
  {
   "cell_type": "code",
   "execution_count": 246,
   "id": "5673ea4c-b050-44a8-bf47-1e062ccf02ce",
   "metadata": {},
   "outputs": [
    {
     "data": {
      "text/plain": [
       "0.5593051559714893"
      ]
     },
     "execution_count": 246,
     "metadata": {},
     "output_type": "execute_result"
    }
   ],
   "source": [
    "singlevel"
   ]
  },
  {
   "cell_type": "code",
   "execution_count": 247,
   "id": "9686db81-3242-4879-8791-95796557c0c1",
   "metadata": {},
   "outputs": [],
   "source": [
    "list1 = np.random.rand(10)\n",
    "list2 = np.random.rand(10)"
   ]
  },
  {
   "cell_type": "code",
   "execution_count": 248,
   "id": "8691fee5-01ce-46d1-a7af-366826e50e79",
   "metadata": {},
   "outputs": [
    {
     "data": {
      "text/plain": [
       "array([0.26447646, 0.67953691, 0.26257311, 0.57660023, 0.6869894 ,\n",
       "       0.00452935, 0.00374884, 0.78624568, 0.86068619, 0.12552516])"
      ]
     },
     "execution_count": 248,
     "metadata": {},
     "output_type": "execute_result"
    }
   ],
   "source": [
    "list1"
   ]
  },
  {
   "cell_type": "code",
   "execution_count": 249,
   "id": "d51fda37-b2fc-48d3-aa43-f6020164aebc",
   "metadata": {},
   "outputs": [
    {
     "data": {
      "text/plain": [
       "array([0.46953332, 0.86859183, 0.9629199 , 0.66352839, 0.58916189,\n",
       "       0.66402921, 0.41160549, 0.25303784, 0.39739531, 0.65441634])"
      ]
     },
     "execution_count": 249,
     "metadata": {},
     "output_type": "execute_result"
    }
   ],
   "source": [
    "list2"
   ]
  },
  {
   "cell_type": "code",
   "execution_count": 250,
   "id": "81d8662e-be1e-48ea-ad4d-5946dacb3c5f",
   "metadata": {},
   "outputs": [],
   "source": [
    "#basic math\n",
    "add = np.add(list1,list2)\n",
    "sub = np.subtract(list1,list2)\n",
    "div = np.divide(list1,list2)\n",
    "mult = np.multiply(list1,list2)\n",
    "dot = np.dot(list1,list2)"
   ]
  },
  {
   "cell_type": "code",
   "execution_count": 251,
   "id": "c06e897a-edac-4a74-8e0c-8c86dd75f1b2",
   "metadata": {},
   "outputs": [
    {
     "data": {
      "text/plain": [
       "array([0.73400978, 1.54812874, 1.22549301, 1.24012862, 1.27615129,\n",
       "       0.66855856, 0.41535433, 1.03928352, 1.2580815 , 0.77994149])"
      ]
     },
     "execution_count": 251,
     "metadata": {},
     "output_type": "execute_result"
    }
   ],
   "source": [
    "add"
   ]
  },
  {
   "cell_type": "code",
   "execution_count": 252,
   "id": "82aa5673-45d2-4b84-85ea-a8a82e0cce0b",
   "metadata": {},
   "outputs": [
    {
     "data": {
      "text/plain": [
       "array([-0.20505687, -0.18905492, -0.70034679, -0.08692816,  0.0978275 ,\n",
       "       -0.65949986, -0.40785665,  0.53320784,  0.46329089, -0.52889118])"
      ]
     },
     "execution_count": 252,
     "metadata": {},
     "output_type": "execute_result"
    }
   ],
   "source": [
    "sub"
   ]
  },
  {
   "cell_type": "code",
   "execution_count": 253,
   "id": "31be0780-10b6-4a6f-9491-ce9259b3033b",
   "metadata": {},
   "outputs": [
    {
     "data": {
      "text/plain": [
       "array([0.56327516, 0.7823432 , 0.27268427, 0.86899105, 1.1660452 ,\n",
       "       0.00682101, 0.00910786, 3.10722572, 2.16581872, 0.19181238])"
      ]
     },
     "execution_count": 253,
     "metadata": {},
     "output_type": "execute_result"
    }
   ],
   "source": [
    "div"
   ]
  },
  {
   "cell_type": "code",
   "execution_count": 254,
   "id": "c8a07ffb-4725-4682-9cf6-ba14d3c7437e",
   "metadata": {},
   "outputs": [
    {
     "data": {
      "text/plain": [
       "array([0.12418051, 0.59024021, 0.25283687, 0.38259062, 0.40474797,\n",
       "       0.00300762, 0.00154304, 0.19894991, 0.34203265, 0.08214571])"
      ]
     },
     "execution_count": 254,
     "metadata": {},
     "output_type": "execute_result"
    }
   ],
   "source": [
    "mult"
   ]
  },
  {
   "cell_type": "code",
   "execution_count": 255,
   "id": "ac110462-7d47-4916-90d6-6ba8f0350f22",
   "metadata": {},
   "outputs": [
    {
     "data": {
      "text/plain": [
       "2.382275136625851"
      ]
     },
     "execution_count": 255,
     "metadata": {},
     "output_type": "execute_result"
    }
   ],
   "source": [
    "dot"
   ]
  },
  {
   "cell_type": "code",
   "execution_count": 256,
   "id": "fe300156-8b0d-4ea3-b572-bd5a8d8996b8",
   "metadata": {},
   "outputs": [],
   "source": [
    "# Stat Functions\n",
    "sqrt = np.sqrt(25)\n",
    "ab = np.abs(-2)\n",
    "power = np.power(2,7)\n",
    "log = np.log(25)\n",
    "exp = np.exp([2,3])\n",
    "mins = np.min(list1)\n",
    "maxs = np.max(list1)"
   ]
  },
  {
   "cell_type": "code",
   "execution_count": 257,
   "id": "20b53769-5c37-40bc-88b0-48d1db843756",
   "metadata": {},
   "outputs": [
    {
     "data": {
      "text/plain": [
       "5.0"
      ]
     },
     "execution_count": 257,
     "metadata": {},
     "output_type": "execute_result"
    }
   ],
   "source": [
    "sqrt"
   ]
  },
  {
   "cell_type": "code",
   "execution_count": 258,
   "id": "d17c05b2-5792-4ee0-89de-95bd6064938e",
   "metadata": {},
   "outputs": [
    {
     "data": {
      "text/plain": [
       "2"
      ]
     },
     "execution_count": 258,
     "metadata": {},
     "output_type": "execute_result"
    }
   ],
   "source": [
    "ab"
   ]
  },
  {
   "cell_type": "code",
   "execution_count": 259,
   "id": "e08e0f9b-b954-49cf-930c-6d8435ac19b6",
   "metadata": {},
   "outputs": [
    {
     "data": {
      "text/plain": [
       "128"
      ]
     },
     "execution_count": 259,
     "metadata": {},
     "output_type": "execute_result"
    }
   ],
   "source": [
    "power"
   ]
  },
  {
   "cell_type": "code",
   "execution_count": 260,
   "id": "5b2577b3-6d6d-48ca-9268-90ffa97d925d",
   "metadata": {},
   "outputs": [
    {
     "data": {
      "text/plain": [
       "3.2188758248682006"
      ]
     },
     "execution_count": 260,
     "metadata": {},
     "output_type": "execute_result"
    }
   ],
   "source": [
    "log"
   ]
  },
  {
   "cell_type": "code",
   "execution_count": 261,
   "id": "dd5f99cf-c838-486b-ade3-60485e967a3a",
   "metadata": {},
   "outputs": [
    {
     "data": {
      "text/plain": [
       "array([ 7.3890561 , 20.08553692])"
      ]
     },
     "execution_count": 261,
     "metadata": {},
     "output_type": "execute_result"
    }
   ],
   "source": [
    "exp"
   ]
  },
  {
   "cell_type": "code",
   "execution_count": 262,
   "id": "a493777b-a7af-43c9-8d4f-88a2818903ab",
   "metadata": {},
   "outputs": [
    {
     "data": {
      "text/plain": [
       "0.0037488440159603176"
      ]
     },
     "execution_count": 262,
     "metadata": {},
     "output_type": "execute_result"
    }
   ],
   "source": [
    "mins"
   ]
  },
  {
   "cell_type": "code",
   "execution_count": 263,
   "id": "99f59a89-92e1-41c1-ac53-904340427816",
   "metadata": {},
   "outputs": [
    {
     "data": {
      "text/plain": [
       "0.8606861943693899"
      ]
     },
     "execution_count": 263,
     "metadata": {},
     "output_type": "execute_result"
    }
   ],
   "source": [
    "maxs"
   ]
  },
  {
   "cell_type": "code",
   "execution_count": 264,
   "id": "3805575b-459f-47b4-99c0-f0e843a6e155",
   "metadata": {},
   "outputs": [
    {
     "data": {
      "text/plain": [
       "array([[[0.55930516, 0.52293112, 0.70508433, 0.0050956 ],\n",
       "        [0.47196621, 0.01295017, 0.58759326, 0.6210408 ],\n",
       "        [0.84984129, 0.56855733, 0.03517758, 0.90170879]],\n",
       "\n",
       "       [[0.25389308, 0.85070783, 0.82934147, 0.12063623],\n",
       "        [0.62556186, 0.29701654, 0.10312515, 0.15427257],\n",
       "        [0.97580872, 0.5364921 , 0.29734809, 0.88978377]]])"
      ]
     },
     "execution_count": 264,
     "metadata": {},
     "output_type": "execute_result"
    }
   ],
   "source": [
    "data"
   ]
  },
  {
   "cell_type": "code",
   "execution_count": 265,
   "id": "a5f05ce6-0405-4970-a6b1-06069946fef4",
   "metadata": {},
   "outputs": [
    {
     "data": {
      "text/plain": [
       "array([[[0.0050956 , 0.52293112, 0.55930516, 0.70508433],\n",
       "        [0.01295017, 0.47196621, 0.58759326, 0.6210408 ],\n",
       "        [0.03517758, 0.56855733, 0.84984129, 0.90170879]],\n",
       "\n",
       "       [[0.12063623, 0.25389308, 0.82934147, 0.85070783],\n",
       "        [0.10312515, 0.15427257, 0.29701654, 0.62556186],\n",
       "        [0.29734809, 0.5364921 , 0.88978377, 0.97580872]]])"
      ]
     },
     "execution_count": 265,
     "metadata": {},
     "output_type": "execute_result"
    }
   ],
   "source": [
    "data.sort()\n",
    "data"
   ]
  },
  {
   "cell_type": "code",
   "execution_count": 266,
   "id": "315edd63-fd0b-4ab9-a852-922b6ea7643a",
   "metadata": {},
   "outputs": [
    {
     "name": "stdout",
     "output_type": "stream",
     "text": [
      "(2, 3, 4)\n"
     ]
    }
   ],
   "source": [
    "print(data.shape)"
   ]
  },
  {
   "cell_type": "code",
   "execution_count": 267,
   "id": "bced7e92-ccc6-46be-a6d0-75fd378f6df1",
   "metadata": {},
   "outputs": [],
   "source": [
    "data = data.reshape((2,2,-1)) # -1 means that we do not care the last value of the shape and it gave 6 automatically"
   ]
  },
  {
   "cell_type": "code",
   "execution_count": 268,
   "id": "9ffe9f73-fec3-417d-9dd4-72caa83e278c",
   "metadata": {},
   "outputs": [
    {
     "data": {
      "text/plain": [
       "(2, 2, 6)"
      ]
     },
     "execution_count": 268,
     "metadata": {},
     "output_type": "execute_result"
    }
   ],
   "source": [
    "data.shape"
   ]
  },
  {
   "cell_type": "code",
   "execution_count": 269,
   "id": "a1fd1664-cb0a-44d6-8309-4061b622c795",
   "metadata": {},
   "outputs": [
    {
     "data": {
      "text/plain": [
       "array([[[0.0050956 , 0.52293112, 0.55930516, 0.70508433, 0.01295017,\n",
       "         0.47196621],\n",
       "        [0.58759326, 0.6210408 , 0.03517758, 0.56855733, 0.84984129,\n",
       "         0.90170879]],\n",
       "\n",
       "       [[0.12063623, 0.25389308, 0.82934147, 0.85070783, 0.10312515,\n",
       "         0.15427257],\n",
       "        [0.29701654, 0.62556186, 0.29734809, 0.5364921 , 0.88978377,\n",
       "         0.97580872]]])"
      ]
     },
     "execution_count": 269,
     "metadata": {},
     "output_type": "execute_result"
    }
   ],
   "source": [
    "data"
   ]
  },
  {
   "cell_type": "code",
   "execution_count": 270,
   "id": "fcc7a271-5fda-4d72-b0b5-41a9f2e8c8e7",
   "metadata": {},
   "outputs": [
    {
     "name": "stdout",
     "output_type": "stream",
     "text": [
      "[0. 0. 0. 0. 0. 0. 0. 0.]\n",
      "[0. 0. 0. 0. 0. 0. 0. 0. 3. 4.]\n"
     ]
    }
   ],
   "source": [
    "zeroes = np.zeros((8))\n",
    "print(zeroes)\n",
    "zeroes = np.append(zeroes, [3,4])\n",
    "print(zeroes)"
   ]
  },
  {
   "cell_type": "code",
   "execution_count": 271,
   "id": "cb7ec1b1-aae4-4869-a721-5d2872e76250",
   "metadata": {},
   "outputs": [
    {
     "name": "stdout",
     "output_type": "stream",
     "text": [
      "[0. 0. 1. 0. 0. 0. 0. 0. 0. 3. 4.]\n"
     ]
    }
   ],
   "source": [
    "zeroes = np.insert(zeroes, 2, 1) # position adn value\n",
    "print(zeroes)"
   ]
  },
  {
   "cell_type": "code",
   "execution_count": 272,
   "id": "48f0a0f9-9c09-4c5e-974c-0c6ae31045a2",
   "metadata": {},
   "outputs": [
    {
     "data": {
      "text/plain": [
       "array([[[0.0050956 , 0.52293112, 0.55930516, 0.70508433, 0.01295017,\n",
       "         0.47196621],\n",
       "        [0.58759326, 0.6210408 , 0.03517758, 0.56855733, 0.84984129,\n",
       "         0.90170879]],\n",
       "\n",
       "       [[0.12063623, 0.25389308, 0.82934147, 0.85070783, 0.10312515,\n",
       "         0.15427257],\n",
       "        [0.29701654, 0.62556186, 0.29734809, 0.5364921 , 0.88978377,\n",
       "         0.97580872]]])"
      ]
     },
     "execution_count": 272,
     "metadata": {},
     "output_type": "execute_result"
    }
   ],
   "source": [
    "data"
   ]
  },
  {
   "cell_type": "code",
   "execution_count": 273,
   "id": "b18f2fff-e6fd-43ab-87b3-79f9f2a94ee2",
   "metadata": {},
   "outputs": [
    {
     "data": {
      "text/plain": [
       "array([[[0.0050956 , 0.52293112, 0.55930516, 0.70508433],\n",
       "        [0.01295017, 0.47196621, 0.58759326, 0.6210408 ],\n",
       "        [0.03517758, 0.56855733, 0.84984129, 0.90170879]],\n",
       "\n",
       "       [[0.12063623, 0.25389308, 0.82934147, 0.85070783],\n",
       "        [0.10312515, 0.15427257, 0.29701654, 0.62556186],\n",
       "        [0.29734809, 0.5364921 , 0.88978377, 0.97580872]]])"
      ]
     },
     "execution_count": 273,
     "metadata": {},
     "output_type": "execute_result"
    }
   ],
   "source": [
    "data.reshape(2,3,-1)"
   ]
  },
  {
   "cell_type": "code",
   "execution_count": 328,
   "id": "107f93be-6a01-49bc-9ce3-71bb45e8d4ce",
   "metadata": {},
   "outputs": [
    {
     "data": {
      "text/plain": [
       "array([[[0.0050956 , 0.52293112, 0.55930516, 0.70508433],\n",
       "        [0.01295017, 0.47196621, 0.58759326, 0.6210408 ],\n",
       "        [0.03517758, 0.56855733, 0.84984129, 0.90170879]],\n",
       "\n",
       "       [[0.12063623, 0.25389308, 0.82934147, 0.85070783],\n",
       "        [0.10312515, 0.15427257, 0.29701654, 0.62556186],\n",
       "        [0.29734809, 0.5364921 , 0.88978377, 0.97580872]]])"
      ]
     },
     "execution_count": 328,
     "metadata": {},
     "output_type": "execute_result"
    }
   ],
   "source": [
    "data = data.reshape(2,3,-1)\n",
    "data"
   ]
  },
  {
   "cell_type": "code",
   "execution_count": 330,
   "id": "36a154be-7fa1-4af8-a9b4-8262b612f0ee",
   "metadata": {},
   "outputs": [
    {
     "data": {
      "text/plain": [
       "array([[[0.01295017, 0.47196621, 0.58759326, 0.6210408 ],\n",
       "        [0.03517758, 0.56855733, 0.84984129, 0.90170879]],\n",
       "\n",
       "       [[0.10312515, 0.15427257, 0.29701654, 0.62556186],\n",
       "        [0.29734809, 0.5364921 , 0.88978377, 0.97580872]]])"
      ]
     },
     "execution_count": 330,
     "metadata": {},
     "output_type": "execute_result"
    }
   ],
   "source": [
    "np.delete(data, 0, axis=1) # shape is 2,3,4 axis=1 means do the change in the 1st position(3)"
   ]
  },
  {
   "cell_type": "code",
   "execution_count": 332,
   "id": "451fe2d2-7659-4c00-877c-4218c2604815",
   "metadata": {},
   "outputs": [],
   "source": [
    "np.save(\"new_array\", data)"
   ]
  },
  {
   "cell_type": "code",
   "execution_count": 334,
   "id": "4f54b04a-578b-467c-9b3a-38dd2e3d92b9",
   "metadata": {},
   "outputs": [
    {
     "data": {
      "text/plain": [
       "array([[[0.0050956 , 0.52293112, 0.55930516, 0.70508433],\n",
       "        [0.01295017, 0.47196621, 0.58759326, 0.6210408 ],\n",
       "        [0.03517758, 0.56855733, 0.84984129, 0.90170879]],\n",
       "\n",
       "       [[0.12063623, 0.25389308, 0.82934147, 0.85070783],\n",
       "        [0.10312515, 0.15427257, 0.29701654, 0.62556186],\n",
       "        [0.29734809, 0.5364921 , 0.88978377, 0.97580872]]])"
      ]
     },
     "execution_count": 334,
     "metadata": {},
     "output_type": "execute_result"
    }
   ],
   "source": [
    "test = np.load(\"new_array.npy\")\n",
    "test"
   ]
  },
  {
   "cell_type": "code",
   "execution_count": null,
   "id": "d249a252-86e1-495f-9c27-ab312e97d7f9",
   "metadata": {},
   "outputs": [],
   "source": []
  }
 ],
 "metadata": {
  "kernelspec": {
   "display_name": "Python 3 (ipykernel)",
   "language": "python",
   "name": "python3"
  },
  "language_info": {
   "codemirror_mode": {
    "name": "ipython",
    "version": 3
   },
   "file_extension": ".py",
   "mimetype": "text/x-python",
   "name": "python",
   "nbconvert_exporter": "python",
   "pygments_lexer": "ipython3",
   "version": "3.12.7"
  }
 },
 "nbformat": 4,
 "nbformat_minor": 5
}
